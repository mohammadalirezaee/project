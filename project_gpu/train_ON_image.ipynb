{
 "cells": [
  {
   "cell_type": "code",
   "execution_count": 1,
   "metadata": {},
   "outputs": [
    {
     "name": "stdout",
     "output_type": "stream",
     "text": [
      "===== Configs =====\n",
      "dataset_dir: ./datasets/ | checkpoint_dir: ./checkpoints/ | dataset: hotel | traj_dim: 2 | \n",
      "obs_len: 8 | obs_step: 10 | pred_len: 12 | pred_step: 10 | skip: 1 | k: 6 | static_dist: 0.353 | \n",
      "num_samples: 20 | obs_svd: True | pred_svd: True | baseline: stgcnn | batch_size: 32 | \n",
      "num_epochs: 128 | lr: 0.001 | weight_decay: 0.0001 | clip_grad: 10 | lr_schd: True | \n",
      "lr_schd_step: 64 | lr_schd_gamma: 0.5\n"
     ]
    }
   ],
   "source": [
    "import os\n",
    "import argparse\n",
    "import baseline\n",
    "import sys\n",
    "from EigenTrajectory import *\n",
    "from utils import *\n",
    "# Check if running in Jupyter environment\n",
    "if 'ipykernel' in sys.argv[0]:\n",
    "    sys.argv = [sys.argv[0]]\n",
    "\n",
    "parser = argparse.ArgumentParser()\n",
    "parser.add_argument('--cfg', default=\"./config/eigentrajectory-stgcnn-hotel.json\", type=str, help=\"config file path\")\n",
    "parser.add_argument('--tag', default=\"EigenTrajectory-TEMP\", type=str, help=\"personal tag for the model\")\n",
    "# parser.add_argument('--gpu_id', default=\"0\", type=str, help=\"gpu id for the model\")\n",
    "parser.add_argument('--test', default=False, action='store_true', help=\"evaluation mode\")\n",
    "args = parser.parse_args()\n",
    "\n",
    "print(\"===== Configs =====\")\n",
    "hyper_params = get_exp_config(args.cfg)\n",
    "print_arguments(hyper_params)\n",
    "PredictorModel = getattr(baseline, hyper_params.baseline).TrajectoryPredictor\n",
    "hook_func = DotDict({\"model_forward_pre_hook\": getattr(baseline, hyper_params.baseline).model_forward_pre_hook,\n",
    "                        \"model_forward\": getattr(baseline, hyper_params.baseline).model_forward,\n",
    "                        \"model_forward_post_hook\": getattr(baseline, hyper_params.baseline).model_forward_post_hook})\n",
    "ModelTrainer = getattr(trainer, *[s for s in trainer.__dict__.keys() if hyper_params.baseline in s.lower()])"
   ]
  },
  {
   "cell_type": "code",
   "execution_count": 2,
   "metadata": {},
   "outputs": [
    {
     "name": "stdout",
     "output_type": "stream",
     "text": [
      "Trainer initiating...\n",
      "Checkpoint dir: ./checkpoints//EigenTrajectory-TEMP/hotel/\n"
     ]
    },
    {
     "name": "stderr",
     "output_type": "stream",
     "text": [
      "c:\\Users\\moham\\AppData\\Local\\Programs\\Python\\Python39\\lib\\site-packages\\torchvision\\models\\_utils.py:208: UserWarning: The parameter 'pretrained' is deprecated since 0.13 and may be removed in the future, please use 'weights' instead.\n",
      "  warnings.warn(\n",
      "c:\\Users\\moham\\AppData\\Local\\Programs\\Python\\Python39\\lib\\site-packages\\torchvision\\models\\_utils.py:223: UserWarning: Arguments other than a weight enum or `None` for 'weights' are deprecated since 0.13 and may be removed in the future. The current behavior is equivalent to passing `weights=ResNet18_Weights.IMAGENET1K_V1`. You can also use `weights=ResNet18_Weights.DEFAULT` to get the most up-to-date weights.\n",
      "  warnings.warn(msg)\n",
      "Downloading: \"https://download.pytorch.org/models/resnet18-f37072fd.pth\" to C:\\Users\\moham/.cache\\torch\\hub\\checkpoints\\resnet18-f37072fd.pth\n",
      "100%|██████████| 44.7M/44.7M [00:31<00:00, 1.47MB/s]\n"
     ]
    },
    {
     "name": "stdout",
     "output_type": "stream",
     "text": [
      "ET descriptor initialization...\n",
      "Anchor generation...\n",
      "Training started...\n"
     ]
    },
    {
     "name": "stderr",
     "output_type": "stream",
     "text": [
      "Train Epoch 0:   1%|          | 9/1669 [01:02<3:11:03,  6.91s/it]"
     ]
    }
   ],
   "source": [
    "trainer = ModelTrainer(base_model=PredictorModel, model=EigenTrajectory, hook_func=hook_func,\n",
    "                        args=args, hyper_params=hyper_params)\n",
    "# print(PredictorModel.in_channels)\n",
    "if not args.test:\n",
    "    trainer.init_descriptor()\n",
    "    trainer.fit()\n",
    "else:\n",
    "    trainer.load_model()\n",
    "    print(\"Testing...\", end=' ')\n",
    "    results = trainer.test()\n",
    "    print(f\"Scene: {hyper_params.dataset}\", *[f\"{meter}: {value:.8f}\" for meter, value in results.items()])"
   ]
  }
 ],
 "metadata": {
  "kernelspec": {
   "display_name": "Python 3",
   "language": "python",
   "name": "python3"
  },
  "language_info": {
   "codemirror_mode": {
    "name": "ipython",
    "version": 3
   },
   "file_extension": ".py",
   "mimetype": "text/x-python",
   "name": "python",
   "nbconvert_exporter": "python",
   "pygments_lexer": "ipython3",
   "version": "3.9.5"
  }
 },
 "nbformat": 4,
 "nbformat_minor": 2
}
