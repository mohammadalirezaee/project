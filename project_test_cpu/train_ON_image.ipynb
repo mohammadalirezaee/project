{
 "cells": [
  {
   "cell_type": "code",
   "execution_count": 1,
   "metadata": {},
   "outputs": [
    {
     "ename": "ModuleNotFoundError",
     "evalue": "No module named 'feature_extractor'",
     "output_type": "error",
     "traceback": [
      "\u001b[1;31m---------------------------------------------------------------------------\u001b[0m",
      "\u001b[1;31mModuleNotFoundError\u001b[0m                       Traceback (most recent call last)",
      "\u001b[1;32mUntitled-1.ipynb Cell 1\u001b[0m line \u001b[0;36m5\n\u001b[0;32m      <a href='vscode-notebook-cell:Untitled-1.ipynb?jupyter-notebook#W0sdW50aXRsZWQ%3D?line=2'>3</a>\u001b[0m \u001b[39mimport\u001b[39;00m \u001b[39mbaseline\u001b[39;00m\n\u001b[0;32m      <a href='vscode-notebook-cell:Untitled-1.ipynb?jupyter-notebook#W0sdW50aXRsZWQ%3D?line=3'>4</a>\u001b[0m \u001b[39mimport\u001b[39;00m \u001b[39msys\u001b[39;00m\n\u001b[1;32m----> <a href='vscode-notebook-cell:Untitled-1.ipynb?jupyter-notebook#W0sdW50aXRsZWQ%3D?line=4'>5</a>\u001b[0m \u001b[39mfrom\u001b[39;00m \u001b[39mEigenTrajectory\u001b[39;00m \u001b[39mimport\u001b[39;00m \u001b[39m*\u001b[39m\n\u001b[0;32m      <a href='vscode-notebook-cell:Untitled-1.ipynb?jupyter-notebook#W0sdW50aXRsZWQ%3D?line=5'>6</a>\u001b[0m \u001b[39mfrom\u001b[39;00m \u001b[39mutils\u001b[39;00m \u001b[39mimport\u001b[39;00m \u001b[39m*\u001b[39m\n\u001b[0;32m      <a href='vscode-notebook-cell:Untitled-1.ipynb?jupyter-notebook#W0sdW50aXRsZWQ%3D?line=6'>7</a>\u001b[0m \u001b[39m# Check if running in Jupyter environment\u001b[39;00m\n",
      "File \u001b[1;32md:\\AmirKabir\\tez\\eighen trajectory\\nuscenes_test_cpu\\nuscenes_test_cpu\\EigenTrajectory\\__init__.py:1\u001b[0m\n\u001b[1;32m----> 1\u001b[0m \u001b[39mfrom\u001b[39;00m \u001b[39m.\u001b[39;00m\u001b[39mmodel\u001b[39;00m \u001b[39mimport\u001b[39;00m EigenTrajectory\n\u001b[0;32m      2\u001b[0m \u001b[39mfrom\u001b[39;00m \u001b[39m.\u001b[39;00m\u001b[39mnormalizer\u001b[39;00m \u001b[39mimport\u001b[39;00m TrajNorm\n",
      "File \u001b[1;32md:\\AmirKabir\\tez\\eighen trajectory\\nuscenes_test_cpu\\nuscenes_test_cpu\\EigenTrajectory\\model.py:5\u001b[0m\n\u001b[0;32m      3\u001b[0m \u001b[39mfrom\u001b[39;00m \u001b[39m.\u001b[39;00m\u001b[39manchor\u001b[39;00m \u001b[39mimport\u001b[39;00m ETAnchor\n\u001b[0;32m      4\u001b[0m \u001b[39mfrom\u001b[39;00m \u001b[39m.\u001b[39;00m\u001b[39mdescriptor\u001b[39;00m \u001b[39mimport\u001b[39;00m ETDescriptor\n\u001b[1;32m----> 5\u001b[0m \u001b[39mfrom\u001b[39;00m \u001b[39mfeature_extractor\u001b[39;00m \u001b[39mimport\u001b[39;00m modified_UNet\n\u001b[0;32m      8\u001b[0m \u001b[39mclass\u001b[39;00m \u001b[39mEigenTrajectory\u001b[39;00m(nn\u001b[39m.\u001b[39mModule):\n\u001b[0;32m      9\u001b[0m \u001b[39m    \u001b[39m\u001b[39mr\u001b[39m\u001b[39m\"\"\"The EigenTrajectory model\u001b[39;00m\n\u001b[0;32m     10\u001b[0m \n\u001b[0;32m     11\u001b[0m \u001b[39m    Args:\u001b[39;00m\n\u001b[1;32m   (...)\u001b[0m\n\u001b[0;32m     14\u001b[0m \u001b[39m        hyper_params (DotDict): The hyper-parameters\u001b[39;00m\n\u001b[0;32m     15\u001b[0m \u001b[39m    \"\"\"\u001b[39;00m\n",
      "\u001b[1;31mModuleNotFoundError\u001b[0m: No module named 'feature_extractor'"
     ]
    }
   ],
   "source": [
    "import os\n",
    "import argparse\n",
    "import baseline\n",
    "import sys\n",
    "from EigenTrajectory import *\n",
    "from utils import *\n",
    "# Check if running in Jupyter environment\n",
    "if 'ipykernel' in sys.argv[0]:\n",
    "    sys.argv = [sys.argv[0]]\n",
    "\n",
    "parser = argparse.ArgumentParser()\n",
    "parser.add_argument('--cfg', default=\"./config/eigentrajectory-stgcnn-hotel.json\", type=str, help=\"config file path\")\n",
    "parser.add_argument('--tag', default=\"EigenTrajectory-TEMP\", type=str, help=\"personal tag for the model\")\n",
    "# parser.add_argument('--gpu_id', default=\"0\", type=str, help=\"gpu id for the model\")\n",
    "parser.add_argument('--test', default=False, action='store_true', help=\"evaluation mode\")\n",
    "args = parser.parse_args()\n",
    "\n",
    "print(\"===== Configs =====\")\n",
    "hyper_params = get_exp_config(args.cfg)\n",
    "print_arguments(hyper_params)\n",
    "PredictorModel = getattr(baseline, hyper_params.baseline).TrajectoryPredictor\n",
    "hook_func = DotDict({\"model_forward_pre_hook\": getattr(baseline, hyper_params.baseline).model_forward_pre_hook,\n",
    "                        \"model_forward\": getattr(baseline, hyper_params.baseline).model_forward,\n",
    "                        \"model_forward_post_hook\": getattr(baseline, hyper_params.baseline).model_forward_post_hook})\n",
    "ModelTrainer = getattr(trainer, *[s for s in trainer.__dict__.keys() if hyper_params.baseline in s.lower()])"
   ]
  },
  {
   "cell_type": "code",
   "execution_count": null,
   "metadata": {},
   "outputs": [],
   "source": []
  }
 ],
 "metadata": {
  "kernelspec": {
   "display_name": "Python 3",
   "language": "python",
   "name": "python3"
  },
  "language_info": {
   "codemirror_mode": {
    "name": "ipython",
    "version": 3
   },
   "file_extension": ".py",
   "mimetype": "text/x-python",
   "name": "python",
   "nbconvert_exporter": "python",
   "pygments_lexer": "ipython3",
   "version": "3.9.5"
  }
 },
 "nbformat": 4,
 "nbformat_minor": 2
}
