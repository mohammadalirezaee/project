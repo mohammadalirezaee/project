{
 "cells": [
  {
   "cell_type": "code",
   "execution_count": 1,
   "metadata": {},
   "outputs": [
    {
     "name": "stdout",
     "output_type": "stream",
     "text": [
      "===== Configs =====\n",
      "dataset_dir: ./datasets/ | checkpoint_dir: ./checkpoints/ | dataset: test | traj_dim: 2 | obs_len: 8 | \n",
      "obs_step: 10 | pred_len: 12 | pred_step: 10 | skip: 1 | k: 6 | static_dist: 0.353 | num_samples: 20 | \n",
      "obs_svd: True | pred_svd: True | baseline: stgcnn | batch_size: 4 | num_epochs: 1 | lr: 0.001 | \n",
      "weight_decay: 0.0001 | clip_grad: 10 | lr_schd: True | lr_schd_step: 64 | lr_schd_gamma: 0.5\n"
     ]
    }
   ],
   "source": [
    "import os\n",
    "import argparse\n",
    "import baseline\n",
    "import sys\n",
    "from EigenTrajectory import *\n",
    "from utils import *\n",
    "# Check if running in Jupyter environment\n",
    "if 'ipykernel' in sys.argv[0]:\n",
    "    sys.argv = [sys.argv[0]]\n",
    "\n",
    "parser = argparse.ArgumentParser()\n",
    "parser.add_argument('--cfg', default=\"./config/eigentrajectory-stgcnn-hotel.json\", type=str, help=\"config file path\")\n",
    "parser.add_argument('--tag', default=\"EigenTrajectory-TEMP\", type=str, help=\"personal tag for the model\")\n",
    "# parser.add_argument('--gpu_id', default=\"0\", type=str, help=\"gpu id for the model\")\n",
    "parser.add_argument('--test', default=False, action='store_true', help=\"evaluation mode\")\n",
    "args = parser.parse_args()\n",
    "\n",
    "print(\"===== Configs =====\")\n",
    "hyper_params = get_exp_config(args.cfg)\n",
    "print_arguments(hyper_params)\n",
    "PredictorModel = getattr(baseline, hyper_params.baseline).TrajectoryPredictor\n",
    "hook_func = DotDict({\"model_forward_pre_hook\": getattr(baseline, hyper_params.baseline).model_forward_pre_hook,\n",
    "                        \"model_forward\": getattr(baseline, hyper_params.baseline).model_forward,\n",
    "                        \"model_forward_post_hook\": getattr(baseline, hyper_params.baseline).model_forward_post_hook})\n",
    "ModelTrainer = getattr(trainer, *[s for s in trainer.__dict__.keys() if hyper_params.baseline in s.lower()])"
   ]
  },
  {
   "cell_type": "code",
   "execution_count": 2,
   "metadata": {},
   "outputs": [
    {
     "name": "stdout",
     "output_type": "stream",
     "text": [
      "Trainer initiating...\n",
      "Checkpoint dir: ./checkpoints//EigenTrajectory-TEMP/test/\n",
      "ET descriptor initialization...\n",
      "Anchor generation...\n",
      "Training started...\n"
     ]
    },
    {
     "name": "stderr",
     "output_type": "stream",
     "text": [
      "Train Epoch 0:   0%|          | 0/231 [00:00<?, ?it/s]"
     ]
    },
    {
     "name": "stdout",
     "output_type": "stream",
     "text": [
      "C_observation(input to GCN): torch.Size([6, 3])\n",
      "******************\n"
     ]
    },
    {
     "name": "stderr",
     "output_type": "stream",
     "text": [
      "Train Epoch 0:   0%|          | 1/231 [00:04<16:54,  4.41s/it]"
     ]
    },
    {
     "name": "stdout",
     "output_type": "stream",
     "text": [
      "C_pred(output of GCN): torch.Size([6, 3, 20])\n",
      "C_prediction after refinment(add with trainable anchor points): torch.Size([6, 3, 20])\n",
      "C_observation(input to GCN): torch.Size([6, 3])\n",
      "******************\n"
     ]
    },
    {
     "name": "stderr",
     "output_type": "stream",
     "text": [
      "Train Epoch 0:   1%|          | 2/231 [00:09<17:25,  4.57s/it]"
     ]
    },
    {
     "name": "stdout",
     "output_type": "stream",
     "text": [
      "C_pred(output of GCN): torch.Size([6, 3, 20])\n",
      "C_prediction after refinment(add with trainable anchor points): torch.Size([6, 3, 20])\n",
      "C_observation(input to GCN): torch.Size([6, 3])\n",
      "******************\n"
     ]
    },
    {
     "name": "stderr",
     "output_type": "stream",
     "text": [
      "Train Epoch 0:   1%|▏         | 3/231 [00:13<17:18,  4.56s/it]"
     ]
    },
    {
     "name": "stdout",
     "output_type": "stream",
     "text": [
      "C_pred(output of GCN): torch.Size([6, 3, 20])\n",
      "C_prediction after refinment(add with trainable anchor points): torch.Size([6, 3, 20])\n",
      "C_observation(input to GCN): torch.Size([6, 3])\n",
      "******************\n",
      "C_pred(output of GCN): torch.Size([6, 3, 20])\n",
      "C_prediction after refinment(add with trainable anchor points): torch.Size([6, 3, 20])\n"
     ]
    },
    {
     "ename": "",
     "evalue": "",
     "output_type": "error",
     "traceback": [
      "\u001b[1;31mThe Kernel crashed while executing code in the the current cell or a previous cell. Please review the code in the cell(s) to identify a possible cause of the failure. Click <a href='https://aka.ms/vscodeJupyterKernelCrash'>here</a> for more info. View Jupyter <a href='command:jupyter.viewOutput'>log</a> for further details."
     ]
    }
   ],
   "source": [
    "trainer = ModelTrainer(base_model=PredictorModel, model=EigenTrajectory, hook_func=hook_func,\n",
    "                        args=args, hyper_params=hyper_params)\n",
    "# print(PredictorModel.in_channels)\n",
    "if not args.test:\n",
    "    trainer.init_descriptor()\n",
    "    trainer.fit()\n",
    "else:\n",
    "    trainer.load_model()\n",
    "    print(\"Testing...\", end=' ')\n",
    "    results = trainer.test()\n",
    "    print(f\"Scene: {hyper_params.dataset}\", *[f\"{meter}: {value:.8f}\" for meter, value in results.items()])"
   ]
  }
 ],
 "metadata": {
  "kernelspec": {
   "display_name": "Python 3",
   "language": "python",
   "name": "python3"
  },
  "language_info": {
   "codemirror_mode": {
    "name": "ipython",
    "version": 3
   },
   "file_extension": ".py",
   "mimetype": "text/x-python",
   "name": "python",
   "nbconvert_exporter": "python",
   "pygments_lexer": "ipython3",
   "version": "3.9.5"
  }
 },
 "nbformat": 4,
 "nbformat_minor": 2
}
