{
 "cells": [
  {
   "cell_type": "code",
   "execution_count": 1,
   "metadata": {},
   "outputs": [
    {
     "name": "stdout",
     "output_type": "stream",
     "text": [
      "===== Configs =====\n",
      "dataset_dir: ./datasets/ | checkpoint_dir: ./checkpoints/ | dataset: eth | traj_dim: 2 | obs_len: 8 | \n",
      "obs_step: 10 | pred_len: 12 | pred_step: 10 | skip: 1 | k: 6 | static_dist: 0.353 | num_samples: 20 | \n",
      "obs_svd: True | pred_svd: True | baseline: stgcnn | batch_size: 4 | num_epochs: 1 | lr: 0.001 | \n",
      "weight_decay: 0.0001 | clip_grad: 10 | lr_schd: True | lr_schd_step: 64 | lr_schd_gamma: 0.5\n"
     ]
    }
   ],
   "source": [
    "import os\n",
    "import argparse\n",
    "import baseline\n",
    "import sys\n",
    "from EigenTrajectory import *\n",
    "from utils import *\n",
    "# Check if running in Jupyter environment\n",
    "if 'ipykernel' in sys.argv[0]:\n",
    "    sys.argv = [sys.argv[0]]\n",
    "\n",
    "parser = argparse.ArgumentParser()\n",
    "parser.add_argument('--cfg', default=\"./config/eigentrajectory-stgcnn-hotel.json\", type=str, help=\"config file path\")\n",
    "parser.add_argument('--tag', default=\"EigenTrajectory-TEMP\", type=str, help=\"personal tag for the model\")\n",
    "# parser.add_argument('--gpu_id', default=\"0\", type=str, help=\"gpu id for the model\")\n",
    "parser.add_argument('--test', default=False, action='store_true', help=\"evaluation mode\")\n",
    "args = parser.parse_args()\n",
    "\n",
    "print(\"===== Configs =====\")\n",
    "hyper_params = get_exp_config(args.cfg)\n",
    "print_arguments(hyper_params)\n",
    "PredictorModel = getattr(baseline, hyper_params.baseline).TrajectoryPredictor\n",
    "hook_func = DotDict({\"model_forward_pre_hook\": getattr(baseline, hyper_params.baseline).model_forward_pre_hook,\n",
    "                        \"model_forward\": getattr(baseline, hyper_params.baseline).model_forward,\n",
    "                        \"model_forward_post_hook\": getattr(baseline, hyper_params.baseline).model_forward_post_hook})\n",
    "ModelTrainer = getattr(trainer, *[s for s in trainer.__dict__.keys() if hyper_params.baseline in s.lower()])"
   ]
  },
  {
   "cell_type": "code",
   "execution_count": 2,
   "metadata": {},
   "outputs": [
    {
     "name": "stdout",
     "output_type": "stream",
     "text": [
      "Trainer initiating...\n",
      "Checkpoint dir: ./checkpoints//EigenTrajectory-TEMP/eth/\n",
      "ET descriptor initialization...\n",
      "Anchor generation...\n",
      "Training started...\n"
     ]
    },
    {
     "name": "stderr",
     "output_type": "stream",
     "text": [
      "Train Epoch 0:   0%|          | 0/1860 [00:00<?, ?it/s]"
     ]
    },
    {
     "name": "stdout",
     "output_type": "stream",
     "text": [
      "C_observation(input to GCN): torch.Size([6, 3])\n",
      "******************\n",
      "<class 'list'>\n",
      "8\n",
      "torch.Size([300, 300, 3])\n",
      "C_pred(output of GCN): torch.Size([6, 3, 20])\n",
      "C_prediction after refinment(add with trainable anchor points): torch.Size([6, 3, 20])\n"
     ]
    },
    {
     "name": "stderr",
     "output_type": "stream",
     "text": [
      "Train Epoch 0:   0%|          | 1/1860 [00:06<3:24:49,  6.61s/it]"
     ]
    },
    {
     "name": "stdout",
     "output_type": "stream",
     "text": [
      "C_observation(input to GCN): torch.Size([6, 3])\n",
      "******************\n",
      "<class 'list'>\n",
      "8\n",
      "torch.Size([300, 300, 3])\n"
     ]
    },
    {
     "name": "stderr",
     "output_type": "stream",
     "text": [
      "Train Epoch 0:   0%|          | 2/1860 [00:11<3:00:42,  5.84s/it]"
     ]
    },
    {
     "name": "stdout",
     "output_type": "stream",
     "text": [
      "C_pred(output of GCN): torch.Size([6, 3, 20])\n",
      "C_prediction after refinment(add with trainable anchor points): torch.Size([6, 3, 20])\n",
      "C_observation(input to GCN): torch.Size([6, 3])\n",
      "******************\n",
      "<class 'list'>\n",
      "8\n",
      "torch.Size([300, 300, 3])\n"
     ]
    },
    {
     "name": "stderr",
     "output_type": "stream",
     "text": [
      "Train Epoch 0:   0%|          | 3/1860 [00:18<3:16:50,  6.36s/it]"
     ]
    },
    {
     "name": "stdout",
     "output_type": "stream",
     "text": [
      "C_pred(output of GCN): torch.Size([6, 3, 20])\n",
      "C_prediction after refinment(add with trainable anchor points): torch.Size([6, 3, 20])\n",
      "C_observation(input to GCN): torch.Size([6, 3])\n",
      "******************\n",
      "<class 'list'>\n",
      "8\n",
      "torch.Size([300, 300, 3])\n",
      "C_pred(output of GCN): torch.Size([6, 3, 20])\n",
      "C_prediction after refinment(add with trainable anchor points): torch.Size([6, 3, 20])\n"
     ]
    },
    {
     "name": "stderr",
     "output_type": "stream",
     "text": [
      "Train Epoch 0:   0%|          | 4/1860 [00:59<10:17:35, 19.97s/it]"
     ]
    },
    {
     "name": "stdout",
     "output_type": "stream",
     "text": [
      "C_observation(input to GCN): torch.Size([6, 3])\n",
      "******************\n",
      "<class 'list'>\n",
      "8\n",
      "torch.Size([300, 300, 3])\n"
     ]
    },
    {
     "name": "stderr",
     "output_type": "stream",
     "text": [
      "Train Epoch 0:   0%|          | 5/1860 [01:02<7:09:01, 13.88s/it] "
     ]
    },
    {
     "name": "stdout",
     "output_type": "stream",
     "text": [
      "C_pred(output of GCN): torch.Size([6, 3, 20])\n",
      "C_prediction after refinment(add with trainable anchor points): torch.Size([6, 3, 20])\n",
      "C_observation(input to GCN): torch.Size([6, 3])\n",
      "******************\n",
      "<class 'list'>\n",
      "8\n",
      "torch.Size([300, 300, 3])\n"
     ]
    },
    {
     "name": "stderr",
     "output_type": "stream",
     "text": [
      "Train Epoch 0:   0%|          | 6/1860 [01:05<5:15:13, 10.20s/it]"
     ]
    },
    {
     "name": "stdout",
     "output_type": "stream",
     "text": [
      "C_pred(output of GCN): torch.Size([6, 3, 20])\n",
      "C_prediction after refinment(add with trainable anchor points): torch.Size([6, 3, 20])\n",
      "C_observation(input to GCN): torch.Size([6, 3])\n",
      "******************\n",
      "<class 'list'>\n",
      "8\n",
      "torch.Size([300, 300, 3])\n"
     ]
    },
    {
     "name": "stderr",
     "output_type": "stream",
     "text": [
      "Train Epoch 0:   0%|          | 7/1860 [01:08<4:01:56,  7.83s/it]"
     ]
    },
    {
     "name": "stdout",
     "output_type": "stream",
     "text": [
      "C_pred(output of GCN): torch.Size([6, 3, 20])\n",
      "C_prediction after refinment(add with trainable anchor points): torch.Size([6, 3, 20])\n",
      "C_observation(input to GCN): torch.Size([6, 2])\n",
      "******************\n",
      "<class 'list'>\n",
      "8\n",
      "torch.Size([300, 300, 3])\n",
      "C_pred(output of GCN): torch.Size([6, 2, 20])\n",
      "C_prediction after refinment(add with trainable anchor points): torch.Size([6, 2, 20])\n"
     ]
    },
    {
     "name": "stderr",
     "output_type": "stream",
     "text": [
      "Train Epoch 0:   0%|          | 8/1860 [01:43<8:29:48, 16.52s/it]"
     ]
    },
    {
     "name": "stdout",
     "output_type": "stream",
     "text": [
      "C_observation(input to GCN): torch.Size([6, 2])\n",
      "******************\n",
      "<class 'list'>\n",
      "8\n",
      "torch.Size([300, 300, 3])\n"
     ]
    },
    {
     "name": "stderr",
     "output_type": "stream",
     "text": [
      "Train Epoch 0:   0%|          | 9/1860 [01:46<6:19:19, 12.30s/it]"
     ]
    },
    {
     "name": "stdout",
     "output_type": "stream",
     "text": [
      "C_pred(output of GCN): torch.Size([6, 2, 20])\n",
      "C_prediction after refinment(add with trainable anchor points): torch.Size([6, 2, 20])\n",
      "C_observation(input to GCN): torch.Size([6, 2])\n",
      "******************\n",
      "<class 'list'>\n",
      "8\n",
      "torch.Size([300, 300, 3])\n"
     ]
    },
    {
     "name": "stderr",
     "output_type": "stream",
     "text": [
      "Train Epoch 0:   1%|          | 10/1860 [01:49<4:50:56,  9.44s/it]"
     ]
    },
    {
     "name": "stdout",
     "output_type": "stream",
     "text": [
      "C_pred(output of GCN): torch.Size([6, 2, 20])\n",
      "C_prediction after refinment(add with trainable anchor points): torch.Size([6, 2, 20])\n",
      "C_observation(input to GCN): torch.Size([6, 2])\n",
      "******************\n",
      "<class 'list'>\n",
      "8\n",
      "torch.Size([300, 300, 3])\n"
     ]
    },
    {
     "name": "stderr",
     "output_type": "stream",
     "text": [
      "Train Epoch 0:   1%|          | 11/1860 [01:52<3:49:51,  7.46s/it]"
     ]
    },
    {
     "name": "stdout",
     "output_type": "stream",
     "text": [
      "C_pred(output of GCN): torch.Size([6, 2, 20])\n",
      "C_prediction after refinment(add with trainable anchor points): torch.Size([6, 2, 20])\n",
      "C_observation(input to GCN): torch.Size([6, 2])\n",
      "******************\n",
      "<class 'list'>\n",
      "8\n",
      "torch.Size([300, 300, 3])\n",
      "C_pred(output of GCN): torch.Size([6, 2, 20])\n",
      "C_prediction after refinment(add with trainable anchor points): torch.Size([6, 2, 20])\n"
     ]
    },
    {
     "name": "stderr",
     "output_type": "stream",
     "text": [
      "Train Epoch 0:   1%|          | 12/1860 [02:26<7:52:02, 15.33s/it]"
     ]
    },
    {
     "name": "stdout",
     "output_type": "stream",
     "text": [
      "C_observation(input to GCN): torch.Size([6, 2])\n",
      "******************\n",
      "<class 'list'>\n",
      "8\n",
      "torch.Size([300, 300, 3])\n"
     ]
    },
    {
     "name": "stderr",
     "output_type": "stream",
     "text": [
      "Train Epoch 0:   1%|          | 13/1860 [02:29<5:57:13, 11.60s/it]"
     ]
    },
    {
     "name": "stdout",
     "output_type": "stream",
     "text": [
      "C_pred(output of GCN): torch.Size([6, 2, 20])\n",
      "C_prediction after refinment(add with trainable anchor points): torch.Size([6, 2, 20])\n",
      "C_observation(input to GCN): torch.Size([6, 2])\n",
      "******************\n",
      "<class 'list'>\n",
      "8\n",
      "torch.Size([300, 300, 3])\n"
     ]
    },
    {
     "name": "stderr",
     "output_type": "stream",
     "text": [
      "Train Epoch 0:   1%|          | 14/1860 [02:32<4:37:15,  9.01s/it]"
     ]
    },
    {
     "name": "stdout",
     "output_type": "stream",
     "text": [
      "C_pred(output of GCN): torch.Size([6, 2, 20])\n",
      "C_prediction after refinment(add with trainable anchor points): torch.Size([6, 2, 20])\n",
      "C_observation(input to GCN): torch.Size([6, 2])\n",
      "******************\n",
      "<class 'list'>\n",
      "8\n",
      "torch.Size([300, 300, 3])\n"
     ]
    },
    {
     "name": "stderr",
     "output_type": "stream",
     "text": [
      "Train Epoch 0:   1%|          | 15/1860 [02:35<3:40:32,  7.17s/it]"
     ]
    },
    {
     "name": "stdout",
     "output_type": "stream",
     "text": [
      "C_pred(output of GCN): torch.Size([6, 2, 20])\n",
      "C_prediction after refinment(add with trainable anchor points): torch.Size([6, 2, 20])\n",
      "C_observation(input to GCN): torch.Size([6, 2])\n",
      "******************\n",
      "<class 'list'>\n",
      "8\n",
      "torch.Size([300, 300, 3])\n",
      "C_pred(output of GCN): torch.Size([6, 2, 20])\n",
      "C_prediction after refinment(add with trainable anchor points): torch.Size([6, 2, 20])\n"
     ]
    },
    {
     "name": "stderr",
     "output_type": "stream",
     "text": [
      "Train Epoch 0:   1%|          | 16/1860 [03:08<7:42:41, 15.06s/it]"
     ]
    },
    {
     "name": "stdout",
     "output_type": "stream",
     "text": [
      "C_observation(input to GCN): torch.Size([6, 3])\n",
      "******************\n",
      "<class 'list'>\n",
      "8\n",
      "torch.Size([300, 300, 3])\n"
     ]
    },
    {
     "name": "stderr",
     "output_type": "stream",
     "text": [
      "Train Epoch 0:   1%|          | 17/1860 [03:12<5:56:09, 11.60s/it]"
     ]
    },
    {
     "name": "stdout",
     "output_type": "stream",
     "text": [
      "C_pred(output of GCN): torch.Size([6, 3, 20])\n",
      "C_prediction after refinment(add with trainable anchor points): torch.Size([6, 3, 20])\n",
      "C_observation(input to GCN): torch.Size([6, 3])\n",
      "******************\n",
      "<class 'list'>\n",
      "8\n",
      "torch.Size([300, 300, 3])\n"
     ]
    },
    {
     "name": "stderr",
     "output_type": "stream",
     "text": [
      "Train Epoch 0:   1%|          | 18/1860 [03:15<4:40:22,  9.13s/it]"
     ]
    },
    {
     "name": "stdout",
     "output_type": "stream",
     "text": [
      "C_pred(output of GCN): torch.Size([6, 3, 20])\n",
      "C_prediction after refinment(add with trainable anchor points): torch.Size([6, 3, 20])\n",
      "C_observation(input to GCN): torch.Size([6, 3])\n",
      "******************\n",
      "<class 'list'>\n",
      "8\n",
      "torch.Size([300, 300, 3])\n"
     ]
    },
    {
     "name": "stderr",
     "output_type": "stream",
     "text": [
      "Train Epoch 0:   1%|          | 19/1860 [03:18<3:45:52,  7.36s/it]"
     ]
    },
    {
     "name": "stdout",
     "output_type": "stream",
     "text": [
      "C_pred(output of GCN): torch.Size([6, 3, 20])\n",
      "C_prediction after refinment(add with trainable anchor points): torch.Size([6, 3, 20])\n",
      "C_observation(input to GCN): torch.Size([6, 3])\n",
      "******************\n",
      "<class 'list'>\n",
      "8\n",
      "torch.Size([300, 300, 3])\n",
      "C_pred(output of GCN): torch.Size([6, 3, 20])\n",
      "C_prediction after refinment(add with trainable anchor points): torch.Size([6, 3, 20])\n"
     ]
    },
    {
     "name": "stderr",
     "output_type": "stream",
     "text": [
      "Train Epoch 0:   1%|          | 19/1860 [03:56<6:22:31, 12.47s/it]\n"
     ]
    }
   ],
   "source": [
    "trainer = ModelTrainer(base_model=PredictorModel, model=EigenTrajectory, hook_func=hook_func,\n",
    "                        args=args, hyper_params=hyper_params)\n",
    "# print(PredictorModel.in_channels)\n",
    "if not args.test:\n",
    "    trainer.init_descriptor()\n",
    "    trainer.fit()\n",
    "else:\n",
    "    trainer.load_model()\n",
    "    print(\"Testing...\", end=' ')\n",
    "    results = trainer.test()\n",
    "    print(f\"Scene: {hyper_params.dataset}\", *[f\"{meter}: {value:.8f}\" for meter, value in results.items()])"
   ]
  }
 ],
 "metadata": {
  "kernelspec": {
   "display_name": "Python 3",
   "language": "python",
   "name": "python3"
  },
  "language_info": {
   "codemirror_mode": {
    "name": "ipython",
    "version": 3
   },
   "file_extension": ".py",
   "mimetype": "text/x-python",
   "name": "python",
   "nbconvert_exporter": "python",
   "pygments_lexer": "ipython3",
   "version": "3.9.5"
  }
 },
 "nbformat": 4,
 "nbformat_minor": 2
}
