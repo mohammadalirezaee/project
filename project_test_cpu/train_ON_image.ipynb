{
 "cells": [
  {
   "cell_type": "code",
   "execution_count": 1,
   "metadata": {},
   "outputs": [
    {
     "name": "stdout",
     "output_type": "stream",
     "text": [
      "===== Configs =====\n",
      "dataset_dir: ./datasets/ | checkpoint_dir: ./checkpoints/ | dataset: test | traj_dim: 2 | obs_len: 8 | \n",
      "obs_step: 10 | pred_len: 12 | pred_step: 10 | skip: 1 | k: 6 | static_dist: 0.353 | num_samples: 20 | \n",
      "obs_svd: True | pred_svd: True | baseline: stgcnn | batch_size: 4 | num_epochs: 1 | lr: 0.001 | \n",
      "weight_decay: 0.0001 | clip_grad: 10 | lr_schd: True | lr_schd_step: 64 | lr_schd_gamma: 0.5\n"
     ]
    }
   ],
   "source": [
    "import os\n",
    "import argparse\n",
    "import baseline\n",
    "import sys\n",
    "from EigenTrajectory import *\n",
    "from utils import *\n",
    "# Check if running in Jupyter environment\n",
    "if 'ipykernel' in sys.argv[0]:\n",
    "    sys.argv = [sys.argv[0]]\n",
    "\n",
    "parser = argparse.ArgumentParser()\n",
    "parser.add_argument('--cfg', default=\"./config/eigentrajectory-stgcnn-hotel.json\", type=str, help=\"config file path\")\n",
    "parser.add_argument('--tag', default=\"EigenTrajectory-TEMP\", type=str, help=\"personal tag for the model\")\n",
    "# parser.add_argument('--gpu_id', default=\"0\", type=str, help=\"gpu id for the model\")\n",
    "parser.add_argument('--test', default=False, action='store_true', help=\"evaluation mode\")\n",
    "args = parser.parse_args()\n",
    "\n",
    "print(\"===== Configs =====\")\n",
    "hyper_params = get_exp_config(args.cfg)\n",
    "print_arguments(hyper_params)\n",
    "PredictorModel = getattr(baseline, hyper_params.baseline).TrajectoryPredictor\n",
    "hook_func = DotDict({\"model_forward_pre_hook\": getattr(baseline, hyper_params.baseline).model_forward_pre_hook,\n",
    "                        \"model_forward\": getattr(baseline, hyper_params.baseline).model_forward,\n",
    "                        \"model_forward_post_hook\": getattr(baseline, hyper_params.baseline).model_forward_post_hook})\n",
    "ModelTrainer = getattr(trainer, *[s for s in trainer.__dict__.keys() if hyper_params.baseline in s.lower()])"
   ]
  },
  {
   "cell_type": "code",
   "execution_count": 4,
   "metadata": {},
   "outputs": [
    {
     "data": {
      "text/plain": [
       "<module 'baseline' from 'd:\\\\AmirKabir\\\\tez\\\\eighen trajectory\\\\project_git\\\\project\\\\project_test_cpu\\\\baseline\\\\__init__.py'>"
      ]
     },
     "execution_count": 4,
     "metadata": {},
     "output_type": "execute_result"
    }
   ],
   "source": [
    "baseline"
   ]
  },
  {
   "cell_type": "code",
   "execution_count": 2,
   "metadata": {},
   "outputs": [
    {
     "name": "stdout",
     "output_type": "stream",
     "text": [
      "Trainer initiating...\n",
      "Checkpoint dir: ./checkpoints//EigenTrajectory-TEMP/test/\n",
      "ET descriptor initialization...\n",
      "Anchor generation...\n",
      "Training started...\n"
     ]
    },
    {
     "name": "stderr",
     "output_type": "stream",
     "text": [
      "Train Epoch 0:   0%|          | 0/231 [00:00<?, ?it/s]"
     ]
    },
    {
     "name": "stdout",
     "output_type": "stream",
     "text": [
      "C_observation(input to GCN): torch.Size([6, 3])\n",
      "******************\n",
      "<class 'list'>\n",
      "1\n"
     ]
    },
    {
     "name": "stderr",
     "output_type": "stream",
     "text": [
      "Train Epoch 0:   0%|          | 0/231 [00:04<?, ?it/s]"
     ]
    },
    {
     "name": "stdout",
     "output_type": "stream",
     "text": [
      "features: torch.Size([128])\n"
     ]
    },
    {
     "name": "stderr",
     "output_type": "stream",
     "text": [
      "\n"
     ]
    },
    {
     "ename": "AssertionError",
     "evalue": "",
     "output_type": "error",
     "traceback": [
      "\u001b[1;31m---------------------------------------------------------------------------\u001b[0m",
      "\u001b[1;31mAssertionError\u001b[0m                            Traceback (most recent call last)",
      "\u001b[1;32md:\\AmirKabir\\tez\\eighen trajectory\\project_git\\project\\project_test_cpu\\train_ON_image.ipynb Cell 2\u001b[0m line \u001b[0;36m6\n\u001b[0;32m      <a href='vscode-notebook-cell:/d%3A/AmirKabir/tez/eighen%20trajectory/project_git/project/project_test_cpu/train_ON_image.ipynb#W1sZmlsZQ%3D%3D?line=3'>4</a>\u001b[0m \u001b[39mif\u001b[39;00m \u001b[39mnot\u001b[39;00m args\u001b[39m.\u001b[39mtest:\n\u001b[0;32m      <a href='vscode-notebook-cell:/d%3A/AmirKabir/tez/eighen%20trajectory/project_git/project/project_test_cpu/train_ON_image.ipynb#W1sZmlsZQ%3D%3D?line=4'>5</a>\u001b[0m     trainer\u001b[39m.\u001b[39minit_descriptor()\n\u001b[1;32m----> <a href='vscode-notebook-cell:/d%3A/AmirKabir/tez/eighen%20trajectory/project_git/project/project_test_cpu/train_ON_image.ipynb#W1sZmlsZQ%3D%3D?line=5'>6</a>\u001b[0m     trainer\u001b[39m.\u001b[39;49mfit()\n\u001b[0;32m      <a href='vscode-notebook-cell:/d%3A/AmirKabir/tez/eighen%20trajectory/project_git/project/project_test_cpu/train_ON_image.ipynb#W1sZmlsZQ%3D%3D?line=6'>7</a>\u001b[0m \u001b[39melse\u001b[39;00m:\n\u001b[0;32m      <a href='vscode-notebook-cell:/d%3A/AmirKabir/tez/eighen%20trajectory/project_git/project/project_test_cpu/train_ON_image.ipynb#W1sZmlsZQ%3D%3D?line=7'>8</a>\u001b[0m     trainer\u001b[39m.\u001b[39mload_model()\n",
      "File \u001b[1;32md:\\AmirKabir\\tez\\eighen trajectory\\project_git\\project\\project_test_cpu\\utils\\trainer.py:71\u001b[0m, in \u001b[0;36mETTrainer.fit\u001b[1;34m(self)\u001b[0m\n\u001b[0;32m     69\u001b[0m \u001b[39mprint\u001b[39m(\u001b[39m\"\u001b[39m\u001b[39mTraining started...\u001b[39m\u001b[39m\"\u001b[39m)\n\u001b[0;32m     70\u001b[0m \u001b[39mfor\u001b[39;00m epoch \u001b[39min\u001b[39;00m \u001b[39mrange\u001b[39m(\u001b[39mself\u001b[39m\u001b[39m.\u001b[39mhyper_params\u001b[39m.\u001b[39mnum_epochs):\n\u001b[1;32m---> 71\u001b[0m     \u001b[39mself\u001b[39;49m\u001b[39m.\u001b[39;49mtrain(epoch)\n\u001b[0;32m     72\u001b[0m     \u001b[39mself\u001b[39m\u001b[39m.\u001b[39mvalid(epoch)\n\u001b[0;32m     74\u001b[0m     \u001b[39mif\u001b[39;00m \u001b[39mself\u001b[39m\u001b[39m.\u001b[39mhyper_params\u001b[39m.\u001b[39mlr_schd:\n",
      "File \u001b[1;32md:\\AmirKabir\\tez\\eighen trajectory\\project_git\\project\\project_test_cpu\\utils\\trainer.py:132\u001b[0m, in \u001b[0;36mETSequencedMiniBatchTrainer.train\u001b[1;34m(self, epoch)\u001b[0m\n\u001b[0;32m    128\u001b[0m frames \u001b[39m=\u001b[39m [[tensor\u001b[39m.\u001b[39mto(device, non_blocking\u001b[39m=\u001b[39m\u001b[39mTrue\u001b[39;00m) \u001b[39mfor\u001b[39;00m tensor \u001b[39min\u001b[39;00m sublist] \u001b[39mfor\u001b[39;00m sublist \u001b[39min\u001b[39;00m batch[\u001b[39m-\u001b[39m\u001b[39m1\u001b[39m][\u001b[39m0\u001b[39m]]\n\u001b[0;32m    130\u001b[0m \u001b[39mself\u001b[39m\u001b[39m.\u001b[39moptimizer\u001b[39m.\u001b[39mzero_grad()\n\u001b[1;32m--> 132\u001b[0m output \u001b[39m=\u001b[39m \u001b[39mself\u001b[39;49m\u001b[39m.\u001b[39;49mmodel(obs_traj, pred_traj , addl_info \u001b[39m=\u001b[39;49m frames)\n\u001b[0;32m    134\u001b[0m loss \u001b[39m=\u001b[39m output[\u001b[39m\"\u001b[39m\u001b[39mloss_eigentraj\u001b[39m\u001b[39m\"\u001b[39m] \u001b[39m+\u001b[39m output[\u001b[39m\"\u001b[39m\u001b[39mloss_euclidean_ade\u001b[39m\u001b[39m\"\u001b[39m] \u001b[39m+\u001b[39m output[\u001b[39m\"\u001b[39m\u001b[39mloss_euclidean_fde\u001b[39m\u001b[39m\"\u001b[39m]\n\u001b[0;32m    135\u001b[0m loss[torch\u001b[39m.\u001b[39misnan(loss)] \u001b[39m=\u001b[39m \u001b[39m0\u001b[39m\n",
      "File \u001b[1;32mc:\\Users\\moham\\AppData\\Local\\Programs\\Python\\Python39\\lib\\site-packages\\torch\\nn\\modules\\module.py:1518\u001b[0m, in \u001b[0;36mModule._wrapped_call_impl\u001b[1;34m(self, *args, **kwargs)\u001b[0m\n\u001b[0;32m   1516\u001b[0m     \u001b[39mreturn\u001b[39;00m \u001b[39mself\u001b[39m\u001b[39m.\u001b[39m_compiled_call_impl(\u001b[39m*\u001b[39margs, \u001b[39m*\u001b[39m\u001b[39m*\u001b[39mkwargs)  \u001b[39m# type: ignore[misc]\u001b[39;00m\n\u001b[0;32m   1517\u001b[0m \u001b[39melse\u001b[39;00m:\n\u001b[1;32m-> 1518\u001b[0m     \u001b[39mreturn\u001b[39;00m \u001b[39mself\u001b[39m\u001b[39m.\u001b[39m_call_impl(\u001b[39m*\u001b[39margs, \u001b[39m*\u001b[39m\u001b[39m*\u001b[39mkwargs)\n",
      "File \u001b[1;32mc:\\Users\\moham\\AppData\\Local\\Programs\\Python\\Python39\\lib\\site-packages\\torch\\nn\\modules\\module.py:1527\u001b[0m, in \u001b[0;36mModule._call_impl\u001b[1;34m(self, *args, **kwargs)\u001b[0m\n\u001b[0;32m   1522\u001b[0m \u001b[39m# If we don't have any hooks, we want to skip the rest of the logic in\u001b[39;00m\n\u001b[0;32m   1523\u001b[0m \u001b[39m# this function, and just call forward.\u001b[39;00m\n\u001b[0;32m   1524\u001b[0m \u001b[39mif\u001b[39;00m \u001b[39mnot\u001b[39;00m (\u001b[39mself\u001b[39m\u001b[39m.\u001b[39m_backward_hooks \u001b[39mor\u001b[39;00m \u001b[39mself\u001b[39m\u001b[39m.\u001b[39m_backward_pre_hooks \u001b[39mor\u001b[39;00m \u001b[39mself\u001b[39m\u001b[39m.\u001b[39m_forward_hooks \u001b[39mor\u001b[39;00m \u001b[39mself\u001b[39m\u001b[39m.\u001b[39m_forward_pre_hooks\n\u001b[0;32m   1525\u001b[0m         \u001b[39mor\u001b[39;00m _global_backward_pre_hooks \u001b[39mor\u001b[39;00m _global_backward_hooks\n\u001b[0;32m   1526\u001b[0m         \u001b[39mor\u001b[39;00m _global_forward_hooks \u001b[39mor\u001b[39;00m _global_forward_pre_hooks):\n\u001b[1;32m-> 1527\u001b[0m     \u001b[39mreturn\u001b[39;00m forward_call(\u001b[39m*\u001b[39margs, \u001b[39m*\u001b[39m\u001b[39m*\u001b[39mkwargs)\n\u001b[0;32m   1529\u001b[0m \u001b[39mtry\u001b[39;00m:\n\u001b[0;32m   1530\u001b[0m     result \u001b[39m=\u001b[39m \u001b[39mNone\u001b[39;00m\n",
      "File \u001b[1;32md:\\AmirKabir\\tez\\eighen trajectory\\project_git\\project\\project_test_cpu\\EigenTrajectory\\model.py:111\u001b[0m, in \u001b[0;36mEigenTrajectory.forward\u001b[1;34m(self, obs_traj, pred_traj, addl_info)\u001b[0m\n\u001b[0;32m    103\u001b[0m \u001b[39m# con = [torch.cat([features, c], dim=0) for c in torch.transpose(C_obs, 0, 1)]\u001b[39;00m\n\u001b[0;32m    104\u001b[0m \u001b[39m# increased_C = torch.stack(con, dim=1)\u001b[39;00m\n\u001b[0;32m    105\u001b[0m \u001b[39m# print(f'increased_C: {increased_C.shape}')\u001b[39;00m\n\u001b[0;32m    106\u001b[0m \n\u001b[0;32m    107\u001b[0m \u001b[39m# print(f'obs_ori(input to GCN): {obs_ori}')\u001b[39;00m\n\u001b[0;32m    108\u001b[0m \u001b[39m# Trajectory prediction\u001b[39;00m\n\u001b[0;32m    110\u001b[0m input_data \u001b[39m=\u001b[39m \u001b[39mself\u001b[39m\u001b[39m.\u001b[39mhook_func\u001b[39m.\u001b[39mmodel_forward_pre_hook(C_obs, obs_ori , addl_info \u001b[39m=\u001b[39m features )\n\u001b[1;32m--> 111\u001b[0m output_data \u001b[39m=\u001b[39m \u001b[39mself\u001b[39;49m\u001b[39m.\u001b[39;49mhook_func\u001b[39m.\u001b[39;49mmodel_forward(input_data, \u001b[39mself\u001b[39;49m\u001b[39m.\u001b[39;49mbaseline_model)\n\u001b[0;32m    112\u001b[0m C_pred_refine \u001b[39m=\u001b[39m \u001b[39mself\u001b[39m\u001b[39m.\u001b[39mhook_func\u001b[39m.\u001b[39mmodel_forward_post_hook(output_data)\n\u001b[0;32m    113\u001b[0m lis\u001b[39m.\u001b[39mappend(C_pred_refine)\n",
      "File \u001b[1;32md:\\AmirKabir\\tez\\eighen trajectory\\project_git\\project\\project_test_cpu\\baseline\\stgcnn\\bridge.py:40\u001b[0m, in \u001b[0;36mmodel_forward\u001b[1;34m(input_data, baseline_model)\u001b[0m\n\u001b[0;32m     38\u001b[0m \u001b[39mdef\u001b[39;00m \u001b[39mmodel_forward\u001b[39m(input_data, baseline_model):\n\u001b[0;32m     39\u001b[0m     \u001b[39m# Forward the baseline model with input data\u001b[39;00m\n\u001b[1;32m---> 40\u001b[0m     output_data \u001b[39m=\u001b[39m baseline_model(\u001b[39m*\u001b[39;49minput_data)\n\u001b[0;32m     41\u001b[0m     \u001b[39mreturn\u001b[39;00m output_data\n",
      "File \u001b[1;32mc:\\Users\\moham\\AppData\\Local\\Programs\\Python\\Python39\\lib\\site-packages\\torch\\nn\\modules\\module.py:1518\u001b[0m, in \u001b[0;36mModule._wrapped_call_impl\u001b[1;34m(self, *args, **kwargs)\u001b[0m\n\u001b[0;32m   1516\u001b[0m     \u001b[39mreturn\u001b[39;00m \u001b[39mself\u001b[39m\u001b[39m.\u001b[39m_compiled_call_impl(\u001b[39m*\u001b[39margs, \u001b[39m*\u001b[39m\u001b[39m*\u001b[39mkwargs)  \u001b[39m# type: ignore[misc]\u001b[39;00m\n\u001b[0;32m   1517\u001b[0m \u001b[39melse\u001b[39;00m:\n\u001b[1;32m-> 1518\u001b[0m     \u001b[39mreturn\u001b[39;00m \u001b[39mself\u001b[39m\u001b[39m.\u001b[39m_call_impl(\u001b[39m*\u001b[39margs, \u001b[39m*\u001b[39m\u001b[39m*\u001b[39mkwargs)\n",
      "File \u001b[1;32mc:\\Users\\moham\\AppData\\Local\\Programs\\Python\\Python39\\lib\\site-packages\\torch\\nn\\modules\\module.py:1527\u001b[0m, in \u001b[0;36mModule._call_impl\u001b[1;34m(self, *args, **kwargs)\u001b[0m\n\u001b[0;32m   1522\u001b[0m \u001b[39m# If we don't have any hooks, we want to skip the rest of the logic in\u001b[39;00m\n\u001b[0;32m   1523\u001b[0m \u001b[39m# this function, and just call forward.\u001b[39;00m\n\u001b[0;32m   1524\u001b[0m \u001b[39mif\u001b[39;00m \u001b[39mnot\u001b[39;00m (\u001b[39mself\u001b[39m\u001b[39m.\u001b[39m_backward_hooks \u001b[39mor\u001b[39;00m \u001b[39mself\u001b[39m\u001b[39m.\u001b[39m_backward_pre_hooks \u001b[39mor\u001b[39;00m \u001b[39mself\u001b[39m\u001b[39m.\u001b[39m_forward_hooks \u001b[39mor\u001b[39;00m \u001b[39mself\u001b[39m\u001b[39m.\u001b[39m_forward_pre_hooks\n\u001b[0;32m   1525\u001b[0m         \u001b[39mor\u001b[39;00m _global_backward_pre_hooks \u001b[39mor\u001b[39;00m _global_backward_hooks\n\u001b[0;32m   1526\u001b[0m         \u001b[39mor\u001b[39;00m _global_forward_hooks \u001b[39mor\u001b[39;00m _global_forward_pre_hooks):\n\u001b[1;32m-> 1527\u001b[0m     \u001b[39mreturn\u001b[39;00m forward_call(\u001b[39m*\u001b[39margs, \u001b[39m*\u001b[39m\u001b[39m*\u001b[39mkwargs)\n\u001b[0;32m   1529\u001b[0m \u001b[39mtry\u001b[39;00m:\n\u001b[0;32m   1530\u001b[0m     result \u001b[39m=\u001b[39m \u001b[39mNone\u001b[39;00m\n",
      "File \u001b[1;32md:\\AmirKabir\\tez\\eighen trajectory\\project_git\\project\\project_test_cpu\\baseline\\stgcnn\\model.py:134\u001b[0m, in \u001b[0;36msocial_stgcnn.forward\u001b[1;34m(self, v, a)\u001b[0m\n\u001b[0;32m    132\u001b[0m \u001b[39mdef\u001b[39;00m \u001b[39mforward\u001b[39m(\u001b[39mself\u001b[39m, v, a):\n\u001b[0;32m    133\u001b[0m     \u001b[39mfor\u001b[39;00m k \u001b[39min\u001b[39;00m \u001b[39mrange\u001b[39m(\u001b[39mself\u001b[39m\u001b[39m.\u001b[39mn_stgcnn):\n\u001b[1;32m--> 134\u001b[0m         v, a \u001b[39m=\u001b[39m \u001b[39mself\u001b[39;49m\u001b[39m.\u001b[39;49mst_gcns[k](v, a)\n\u001b[0;32m    136\u001b[0m     v \u001b[39m=\u001b[39m v\u001b[39m.\u001b[39mview(v\u001b[39m.\u001b[39mshape[\u001b[39m0\u001b[39m], v\u001b[39m.\u001b[39mshape[\u001b[39m2\u001b[39m], v\u001b[39m.\u001b[39mshape[\u001b[39m1\u001b[39m], v\u001b[39m.\u001b[39mshape[\u001b[39m3\u001b[39m])\n\u001b[0;32m    138\u001b[0m     v \u001b[39m=\u001b[39m \u001b[39mself\u001b[39m\u001b[39m.\u001b[39mprelus[\u001b[39m0\u001b[39m](\u001b[39mself\u001b[39m\u001b[39m.\u001b[39mtpcnns[\u001b[39m0\u001b[39m](v))\n",
      "File \u001b[1;32mc:\\Users\\moham\\AppData\\Local\\Programs\\Python\\Python39\\lib\\site-packages\\torch\\nn\\modules\\module.py:1518\u001b[0m, in \u001b[0;36mModule._wrapped_call_impl\u001b[1;34m(self, *args, **kwargs)\u001b[0m\n\u001b[0;32m   1516\u001b[0m     \u001b[39mreturn\u001b[39;00m \u001b[39mself\u001b[39m\u001b[39m.\u001b[39m_compiled_call_impl(\u001b[39m*\u001b[39margs, \u001b[39m*\u001b[39m\u001b[39m*\u001b[39mkwargs)  \u001b[39m# type: ignore[misc]\u001b[39;00m\n\u001b[0;32m   1517\u001b[0m \u001b[39melse\u001b[39;00m:\n\u001b[1;32m-> 1518\u001b[0m     \u001b[39mreturn\u001b[39;00m \u001b[39mself\u001b[39m\u001b[39m.\u001b[39m_call_impl(\u001b[39m*\u001b[39margs, \u001b[39m*\u001b[39m\u001b[39m*\u001b[39mkwargs)\n",
      "File \u001b[1;32mc:\\Users\\moham\\AppData\\Local\\Programs\\Python\\Python39\\lib\\site-packages\\torch\\nn\\modules\\module.py:1527\u001b[0m, in \u001b[0;36mModule._call_impl\u001b[1;34m(self, *args, **kwargs)\u001b[0m\n\u001b[0;32m   1522\u001b[0m \u001b[39m# If we don't have any hooks, we want to skip the rest of the logic in\u001b[39;00m\n\u001b[0;32m   1523\u001b[0m \u001b[39m# this function, and just call forward.\u001b[39;00m\n\u001b[0;32m   1524\u001b[0m \u001b[39mif\u001b[39;00m \u001b[39mnot\u001b[39;00m (\u001b[39mself\u001b[39m\u001b[39m.\u001b[39m_backward_hooks \u001b[39mor\u001b[39;00m \u001b[39mself\u001b[39m\u001b[39m.\u001b[39m_backward_pre_hooks \u001b[39mor\u001b[39;00m \u001b[39mself\u001b[39m\u001b[39m.\u001b[39m_forward_hooks \u001b[39mor\u001b[39;00m \u001b[39mself\u001b[39m\u001b[39m.\u001b[39m_forward_pre_hooks\n\u001b[0;32m   1525\u001b[0m         \u001b[39mor\u001b[39;00m _global_backward_pre_hooks \u001b[39mor\u001b[39;00m _global_backward_hooks\n\u001b[0;32m   1526\u001b[0m         \u001b[39mor\u001b[39;00m _global_forward_hooks \u001b[39mor\u001b[39;00m _global_forward_pre_hooks):\n\u001b[1;32m-> 1527\u001b[0m     \u001b[39mreturn\u001b[39;00m forward_call(\u001b[39m*\u001b[39margs, \u001b[39m*\u001b[39m\u001b[39m*\u001b[39mkwargs)\n\u001b[0;32m   1529\u001b[0m \u001b[39mtry\u001b[39;00m:\n\u001b[0;32m   1530\u001b[0m     result \u001b[39m=\u001b[39m \u001b[39mNone\u001b[39;00m\n",
      "File \u001b[1;32md:\\AmirKabir\\tez\\eighen trajectory\\project_git\\project\\project_test_cpu\\baseline\\stgcnn\\model.py:101\u001b[0m, in \u001b[0;36mst_gcn.forward\u001b[1;34m(self, x, A)\u001b[0m\n\u001b[0;32m     99\u001b[0m \u001b[39mdef\u001b[39;00m \u001b[39mforward\u001b[39m(\u001b[39mself\u001b[39m, x, A):\n\u001b[0;32m    100\u001b[0m     res \u001b[39m=\u001b[39m \u001b[39mself\u001b[39m\u001b[39m.\u001b[39mresidual(x)\n\u001b[1;32m--> 101\u001b[0m     x, A \u001b[39m=\u001b[39m \u001b[39mself\u001b[39;49m\u001b[39m.\u001b[39;49mgcn(x, A)\n\u001b[0;32m    103\u001b[0m     x \u001b[39m=\u001b[39m \u001b[39mself\u001b[39m\u001b[39m.\u001b[39mtcn(x) \u001b[39m+\u001b[39m res\n\u001b[0;32m    105\u001b[0m     \u001b[39mif\u001b[39;00m \u001b[39mnot\u001b[39;00m \u001b[39mself\u001b[39m\u001b[39m.\u001b[39muse_mdn:\n",
      "File \u001b[1;32mc:\\Users\\moham\\AppData\\Local\\Programs\\Python\\Python39\\lib\\site-packages\\torch\\nn\\modules\\module.py:1518\u001b[0m, in \u001b[0;36mModule._wrapped_call_impl\u001b[1;34m(self, *args, **kwargs)\u001b[0m\n\u001b[0;32m   1516\u001b[0m     \u001b[39mreturn\u001b[39;00m \u001b[39mself\u001b[39m\u001b[39m.\u001b[39m_compiled_call_impl(\u001b[39m*\u001b[39margs, \u001b[39m*\u001b[39m\u001b[39m*\u001b[39mkwargs)  \u001b[39m# type: ignore[misc]\u001b[39;00m\n\u001b[0;32m   1517\u001b[0m \u001b[39melse\u001b[39;00m:\n\u001b[1;32m-> 1518\u001b[0m     \u001b[39mreturn\u001b[39;00m \u001b[39mself\u001b[39m\u001b[39m.\u001b[39m_call_impl(\u001b[39m*\u001b[39margs, \u001b[39m*\u001b[39m\u001b[39m*\u001b[39mkwargs)\n",
      "File \u001b[1;32mc:\\Users\\moham\\AppData\\Local\\Programs\\Python\\Python39\\lib\\site-packages\\torch\\nn\\modules\\module.py:1527\u001b[0m, in \u001b[0;36mModule._call_impl\u001b[1;34m(self, *args, **kwargs)\u001b[0m\n\u001b[0;32m   1522\u001b[0m \u001b[39m# If we don't have any hooks, we want to skip the rest of the logic in\u001b[39;00m\n\u001b[0;32m   1523\u001b[0m \u001b[39m# this function, and just call forward.\u001b[39;00m\n\u001b[0;32m   1524\u001b[0m \u001b[39mif\u001b[39;00m \u001b[39mnot\u001b[39;00m (\u001b[39mself\u001b[39m\u001b[39m.\u001b[39m_backward_hooks \u001b[39mor\u001b[39;00m \u001b[39mself\u001b[39m\u001b[39m.\u001b[39m_backward_pre_hooks \u001b[39mor\u001b[39;00m \u001b[39mself\u001b[39m\u001b[39m.\u001b[39m_forward_hooks \u001b[39mor\u001b[39;00m \u001b[39mself\u001b[39m\u001b[39m.\u001b[39m_forward_pre_hooks\n\u001b[0;32m   1525\u001b[0m         \u001b[39mor\u001b[39;00m _global_backward_pre_hooks \u001b[39mor\u001b[39;00m _global_backward_hooks\n\u001b[0;32m   1526\u001b[0m         \u001b[39mor\u001b[39;00m _global_forward_hooks \u001b[39mor\u001b[39;00m _global_forward_pre_hooks):\n\u001b[1;32m-> 1527\u001b[0m     \u001b[39mreturn\u001b[39;00m forward_call(\u001b[39m*\u001b[39margs, \u001b[39m*\u001b[39m\u001b[39m*\u001b[39mkwargs)\n\u001b[0;32m   1529\u001b[0m \u001b[39mtry\u001b[39;00m:\n\u001b[0;32m   1530\u001b[0m     result \u001b[39m=\u001b[39m \u001b[39mNone\u001b[39;00m\n",
      "File \u001b[1;32md:\\AmirKabir\\tez\\eighen trajectory\\project_git\\project\\project_test_cpu\\baseline\\stgcnn\\model.py:40\u001b[0m, in \u001b[0;36mConvTemporalGraphical.forward\u001b[1;34m(self, x, A)\u001b[0m\n\u001b[0;32m     39\u001b[0m \u001b[39mdef\u001b[39;00m \u001b[39mforward\u001b[39m(\u001b[39mself\u001b[39m, x, A):\n\u001b[1;32m---> 40\u001b[0m     \u001b[39massert\u001b[39;00m A\u001b[39m.\u001b[39msize(\u001b[39m0\u001b[39m) \u001b[39m==\u001b[39m \u001b[39mself\u001b[39m\u001b[39m.\u001b[39mkernel_size\n\u001b[0;32m     42\u001b[0m     x \u001b[39m=\u001b[39m \u001b[39mself\u001b[39m\u001b[39m.\u001b[39mconv(x)\n\u001b[0;32m     43\u001b[0m     n, kc, t, v \u001b[39m=\u001b[39m x\u001b[39m.\u001b[39msize()\n",
      "\u001b[1;31mAssertionError\u001b[0m: "
     ]
    }
   ],
   "source": [
    "trainer = ModelTrainer(base_model=PredictorModel, model=EigenTrajectory, hook_func=hook_func,\n",
    "                        args=args, hyper_params=hyper_params)\n",
    "# print(PredictorModel.in_channels)\n",
    "if not args.test:\n",
    "    trainer.init_descriptor()\n",
    "    trainer.fit()\n",
    "else:\n",
    "    trainer.load_model()\n",
    "    print(\"Testing...\", end=' ')\n",
    "    results = trainer.test()\n",
    "    print(f\"Scene: {hyper_params.dataset}\", *[f\"{meter}: {value:.8f}\" for meter, value in results.items()])"
   ]
  }
 ],
 "metadata": {
  "kernelspec": {
   "display_name": "Python 3",
   "language": "python",
   "name": "python3"
  },
  "language_info": {
   "codemirror_mode": {
    "name": "ipython",
    "version": 3
   },
   "file_extension": ".py",
   "mimetype": "text/x-python",
   "name": "python",
   "nbconvert_exporter": "python",
   "pygments_lexer": "ipython3",
   "version": "3.9.5"
  }
 },
 "nbformat": 4,
 "nbformat_minor": 2
}
