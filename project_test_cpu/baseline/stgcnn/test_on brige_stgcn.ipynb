{
 "cells": [
  {
   "cell_type": "code",
   "execution_count": 18,
   "metadata": {},
   "outputs": [],
   "source": [
    "import torch\n",
    "\n",
    "obs_data = torch.rand(8, 3)  # Random tensor of shape [136, 3]\n",
    "v = obs_data[None, :, :, None].detach()"
   ]
  },
  {
   "cell_type": "code",
   "execution_count": 19,
   "metadata": {},
   "outputs": [
    {
     "data": {
      "text/plain": [
       "tensor([[0.5260, 0.9231, 0.1846],\n",
       "        [0.0998, 0.5506, 0.2461],\n",
       "        [0.8070, 0.2535, 0.6103],\n",
       "        [0.1831, 0.5146, 0.0623],\n",
       "        [0.3110, 0.7791, 0.6747],\n",
       "        [0.4205, 0.0201, 0.9636],\n",
       "        [0.1119, 0.9773, 0.0910],\n",
       "        [0.3415, 0.6653, 0.3726]])"
      ]
     },
     "execution_count": 19,
     "metadata": {},
     "output_type": "execute_result"
    }
   ],
   "source": [
    "obs_data"
   ]
  },
  {
   "cell_type": "code",
   "execution_count": 20,
   "metadata": {},
   "outputs": [
    {
     "data": {
      "text/plain": [
       "(torch.Size([1, 1, 8, 3]),\n",
       " tensor([[[[0.5260, 0.9231, 0.1846],\n",
       "           [0.0998, 0.5506, 0.2461],\n",
       "           [0.8070, 0.2535, 0.6103],\n",
       "           [0.1831, 0.5146, 0.0623],\n",
       "           [0.3110, 0.7791, 0.6747],\n",
       "           [0.4205, 0.0201, 0.9636],\n",
       "           [0.1119, 0.9773, 0.0910],\n",
       "           [0.3415, 0.6653, 0.3726]]]]))"
      ]
     },
     "execution_count": 20,
     "metadata": {},
     "output_type": "execute_result"
    }
   ],
   "source": [
    "v = v.permute(0, 3, 1, 2)\n",
    "v.shape , v\n",
    "\n"
   ]
  },
  {
   "cell_type": "code",
   "execution_count": 21,
   "metadata": {},
   "outputs": [
    {
     "data": {
      "text/plain": [
       "3"
      ]
     },
     "execution_count": 21,
     "metadata": {},
     "output_type": "execute_result"
    }
   ],
   "source": [
    "n_ped = v.size(-1)\n",
    "n_ped"
   ]
  },
  {
   "cell_type": "code",
   "execution_count": null,
   "metadata": {},
   "outputs": [],
   "source": [
    "temp = v.permute(0, 2, 3, 1).unsqueeze(dim=-2).repeat_interleave(repeats=n_ped, dim=-2)\n",
    "temp"
   ]
  },
  {
   "cell_type": "code",
   "execution_count": null,
   "metadata": {},
   "outputs": [],
   "source": [
    "temp.shape  ,temp"
   ]
  },
  {
   "cell_type": "code",
   "execution_count": 25,
   "metadata": {},
   "outputs": [],
   "source": [
    "a = (temp - temp.transpose(2, 3)).norm(p=2, dim=-1)"
   ]
  },
  {
   "cell_type": "code",
   "execution_count": 28,
   "metadata": {},
   "outputs": [
    {
     "data": {
      "text/plain": [
       "tensor([[[[0.0000, 0.3971, 0.3414],\n",
       "          [0.3971, 0.0000, 0.7385],\n",
       "          [0.3414, 0.7385, 0.0000]],\n",
       "\n",
       "         [[0.0000, 0.4508, 0.1463],\n",
       "          [0.4508, 0.0000, 0.3045],\n",
       "          [0.1463, 0.3045, 0.0000]],\n",
       "\n",
       "         [[0.0000, 0.5535, 0.1967],\n",
       "          [0.5535, 0.0000, 0.3568],\n",
       "          [0.1967, 0.3568, 0.0000]],\n",
       "\n",
       "         [[0.0000, 0.3315, 0.1208],\n",
       "          [0.3315, 0.0000, 0.4523],\n",
       "          [0.1208, 0.4523, 0.0000]],\n",
       "\n",
       "         [[0.0000, 0.4682, 0.3638],\n",
       "          [0.4682, 0.0000, 0.1044],\n",
       "          [0.3638, 0.1044, 0.0000]],\n",
       "\n",
       "         [[0.0000, 0.4004, 0.5431],\n",
       "          [0.4004, 0.0000, 0.9436],\n",
       "          [0.5431, 0.9436, 0.0000]],\n",
       "\n",
       "         [[0.0000, 0.8654, 0.0209],\n",
       "          [0.8654, 0.0000, 0.8863],\n",
       "          [0.0209, 0.8863, 0.0000]],\n",
       "\n",
       "         [[0.0000, 0.3238, 0.0310],\n",
       "          [0.3238, 0.0000, 0.2927],\n",
       "          [0.0310, 0.2927, 0.0000]]]])"
      ]
     },
     "execution_count": 28,
     "metadata": {},
     "output_type": "execute_result"
    }
   ],
   "source": [
    "a"
   ]
  },
  {
   "cell_type": "code",
   "execution_count": 42,
   "metadata": {},
   "outputs": [],
   "source": [
    "a_inv = 1. / a"
   ]
  },
  {
   "cell_type": "code",
   "execution_count": 43,
   "metadata": {},
   "outputs": [],
   "source": [
    "a_inv[a == 0] = 0"
   ]
  },
  {
   "cell_type": "code",
   "execution_count": 44,
   "metadata": {},
   "outputs": [
    {
     "data": {
      "text/plain": [
       "tensor([[[[ 0.0000,  2.5185,  2.9291],\n",
       "          [ 2.5185,  0.0000,  1.3542],\n",
       "          [ 2.9291,  1.3542,  0.0000]],\n",
       "\n",
       "         [[ 0.0000,  2.2183,  6.8339],\n",
       "          [ 2.2183,  0.0000,  3.2845],\n",
       "          [ 6.8339,  3.2845,  0.0000]],\n",
       "\n",
       "         [[ 0.0000,  1.8067,  5.0830],\n",
       "          [ 1.8067,  0.0000,  2.8030],\n",
       "          [ 5.0830,  2.8030,  0.0000]],\n",
       "\n",
       "         [[ 0.0000,  3.0164,  8.2775],\n",
       "          [ 3.0164,  0.0000,  2.2108],\n",
       "          [ 8.2775,  2.2108,  0.0000]],\n",
       "\n",
       "         [[ 0.0000,  2.1360,  2.7490],\n",
       "          [ 2.1360,  0.0000,  9.5789],\n",
       "          [ 2.7490,  9.5789,  0.0000]],\n",
       "\n",
       "         [[ 0.0000,  2.4973,  1.8411],\n",
       "          [ 2.4973,  0.0000,  1.0598],\n",
       "          [ 1.8411,  1.0598,  0.0000]],\n",
       "\n",
       "         [[ 0.0000,  1.1555, 47.8959],\n",
       "          [ 1.1555,  0.0000,  1.1283],\n",
       "          [47.8959,  1.1283,  0.0000]],\n",
       "\n",
       "         [[ 0.0000,  3.0887, 32.2144],\n",
       "          [ 3.0887,  0.0000,  3.4163],\n",
       "          [32.2144,  3.4163,  0.0000]]]])"
      ]
     },
     "execution_count": 44,
     "metadata": {},
     "output_type": "execute_result"
    }
   ],
   "source": [
    "a_inv"
   ]
  },
  {
   "cell_type": "code",
   "execution_count": 46,
   "metadata": {},
   "outputs": [],
   "source": [
    "a_hat = a_inv + torch.eye(n=n_ped, device=v.device)"
   ]
  },
  {
   "cell_type": "code",
   "execution_count": 48,
   "metadata": {},
   "outputs": [],
   "source": [
    "node_degrees = a_hat.sum(dim=-1).unsqueeze(dim=-1)\n",
    "degs_inv_sqrt = torch.pow(node_degrees, -0.5)\n",
    "degs_inv_sqrt[torch.isinf(degs_inv_sqrt)] = 0\n",
    "norm_degs_matrix = torch.eye(n=n_ped, device=v.device) * degs_inv_sqrt"
   ]
  },
  {
   "cell_type": "code",
   "execution_count": 49,
   "metadata": {},
   "outputs": [],
   "source": [
    "a = torch.eye(n=n_ped, device=v.device) - norm_degs_matrix @ a_hat @ norm_degs_matrix"
   ]
  },
  {
   "cell_type": "code",
   "execution_count": 52,
   "metadata": {},
   "outputs": [],
   "source": [
    "a = a.squeeze(dim=0).detach()"
   ]
  },
  {
   "cell_type": "code",
   "execution_count": 53,
   "metadata": {},
   "outputs": [
    {
     "data": {
      "text/plain": [
       "torch.Size([8, 3, 3])"
      ]
     },
     "execution_count": 53,
     "metadata": {},
     "output_type": "execute_result"
    }
   ],
   "source": [
    "a.shape"
   ]
  },
  {
   "cell_type": "code",
   "execution_count": null,
   "metadata": {},
   "outputs": [],
   "source": []
  }
 ],
 "metadata": {
  "kernelspec": {
   "display_name": "Python 3",
   "language": "python",
   "name": "python3"
  },
  "language_info": {
   "codemirror_mode": {
    "name": "ipython",
    "version": 3
   },
   "file_extension": ".py",
   "mimetype": "text/x-python",
   "name": "python",
   "nbconvert_exporter": "python",
   "pygments_lexer": "ipython3",
   "version": "3.9.5"
  }
 },
 "nbformat": 4,
 "nbformat_minor": 2
}
